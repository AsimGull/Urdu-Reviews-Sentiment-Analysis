{
 "cells": [
  {
   "cell_type": "code",
   "execution_count": 1,
   "metadata": {},
   "outputs": [],
   "source": [
    "import numpy as np \n",
    "import pandas as pd\n",
    "import nltk\n",
    "import matplotlib.pyplot as plt\n",
    "import re\n",
    "from sklearn.feature_extraction.text import CountVectorizer\n",
    "\n",
    "from sklearn.feature_extraction import text\n",
    "import warnings\n",
    "warnings.filterwarnings(\"ignore\")"
   ]
  },
  {
   "cell_type": "markdown",
   "metadata": {},
   "source": [
    "## Inspecting Dataset"
   ]
  },
  {
   "cell_type": "code",
   "execution_count": 2,
   "metadata": {},
   "outputs": [],
   "source": [
    "# importing dataset by using Pandas library.\n",
    "urdu_doc=pd.read_excel('D:/freeLancing/miniAssign5/urdudata.xlsx' , encoding='utf8' )"
   ]
  },
  {
   "cell_type": "code",
   "execution_count": 3,
   "metadata": {},
   "outputs": [
    {
     "data": {
      "text/plain": [
       "(1168, 2)"
      ]
     },
     "execution_count": 3,
     "metadata": {},
     "output_type": "execute_result"
    }
   ],
   "source": [
    "urdu_doc = urdu_doc.dropna()\n",
    "urdu_doc.shape"
   ]
  },
  {
   "cell_type": "code",
   "execution_count": 4,
   "metadata": {},
   "outputs": [
    {
     "data": {
      "text/html": [
       "<div>\n",
       "<style scoped>\n",
       "    .dataframe tbody tr th:only-of-type {\n",
       "        vertical-align: middle;\n",
       "    }\n",
       "\n",
       "    .dataframe tbody tr th {\n",
       "        vertical-align: top;\n",
       "    }\n",
       "\n",
       "    .dataframe thead th {\n",
       "        text-align: right;\n",
       "    }\n",
       "</style>\n",
       "<table border=\"1\" class=\"dataframe\">\n",
       "  <thead>\n",
       "    <tr style=\"text-align: right;\">\n",
       "      <th></th>\n",
       "      <th>Sentences</th>\n",
       "      <th>Labels</th>\n",
       "    </tr>\n",
       "  </thead>\n",
       "  <tbody>\n",
       "    <tr>\n",
       "      <th>0</th>\n",
       "      <td>یہ  بہت خوشی کی بات ہے کہ وہ کراچی آئے ہیں ک...</td>\n",
       "      <td>1</td>\n",
       "    </tr>\n",
       "    <tr>\n",
       "      <th>1</th>\n",
       "      <td>یہ محض مودی کو خوش کرنے کے لیے کیا گیا</td>\n",
       "      <td>1</td>\n",
       "    </tr>\n",
       "    <tr>\n",
       "      <th>2</th>\n",
       "      <td>ان کا کہنا تھا کہ وہ نریندر مودی کے اس فیصلے ...</td>\n",
       "      <td>1</td>\n",
       "    </tr>\n",
       "    <tr>\n",
       "      <th>3</th>\n",
       "      <td>کیا وہ بھی اس خوشی میں شامل ہوں گے</td>\n",
       "      <td>1</td>\n",
       "    </tr>\n",
       "    <tr>\n",
       "      <th>4</th>\n",
       "      <td>تاہم خوش قسمتی سے اب تک یہ احتجاج یا انقلاب پ...</td>\n",
       "      <td>1</td>\n",
       "    </tr>\n",
       "  </tbody>\n",
       "</table>\n",
       "</div>"
      ],
      "text/plain": [
       "                                           Sentences  Labels\n",
       "0    یہ  بہت خوشی کی بات ہے کہ وہ کراچی آئے ہیں ک...       1\n",
       "1             یہ محض مودی کو خوش کرنے کے لیے کیا گیا       1\n",
       "2   ان کا کہنا تھا کہ وہ نریندر مودی کے اس فیصلے ...       1\n",
       "3                 کیا وہ بھی اس خوشی میں شامل ہوں گے       1\n",
       "4   تاہم خوش قسمتی سے اب تک یہ احتجاج یا انقلاب پ...       1"
      ]
     },
     "execution_count": 4,
     "metadata": {},
     "output_type": "execute_result"
    }
   ],
   "source": [
    "urdu_doc.head()"
   ]
  },
  {
   "cell_type": "code",
   "execution_count": null,
   "metadata": {},
   "outputs": [],
   "source": []
  },
  {
   "cell_type": "markdown",
   "metadata": {},
   "source": [
    "# Text preprocessing\n",
    "\n",
    "### Data Cleansing\n"
   ]
  },
  {
   "cell_type": "code",
   "execution_count": 5,
   "metadata": {},
   "outputs": [
    {
     "data": {
      "text/plain": [
       "[<matplotlib.lines.Line2D at 0x11a132d89e8>]"
      ]
     },
     "execution_count": 5,
     "metadata": {},
     "output_type": "execute_result"
    },
    {
     "data": {
      "image/png": "[encoded data removed]",
      "text/plain": [
       "<Figure size 432x288 with 1 Axes>"
      ]
     },
     "metadata": {
      "needs_background": "light"
     },
     "output_type": "display_data"
    }
   ],
   "source": [
    "plt.plot(urdu_doc['Labels'].value_counts())"
   ]
  },
  {
   "cell_type": "code",
   "execution_count": 6,
   "metadata": {},
   "outputs": [
    {
     "data": {
      "text/plain": [
       "1    499\n",
       "3    354\n",
       "2    191\n",
       "4    124\n",
       "Name: Labels, dtype: int64"
      ]
     },
     "execution_count": 6,
     "metadata": {},
     "output_type": "execute_result"
    }
   ],
   "source": [
    "urdu_doc['Labels'].value_counts()"
   ]
  },
  {
   "cell_type": "markdown",
   "metadata": {},
   "source": [
    "### Removing stops words"
   ]
  },
  {
   "cell_type": "code",
   "execution_count": 7,
   "metadata": {},
   "outputs": [],
   "source": [
    "import urduhack"
   ]
  },
  {
   "cell_type": "code",
   "execution_count": 8,
   "metadata": {},
   "outputs": [],
   "source": [
    "#Remove unwanted characters, stopwords, and format the text to create fewer nulls word embeddings\n",
    "\n",
    "def removing_unwanted_data(text):\n",
    "    \n",
    "    # Format words and remove unwanted characters\n",
    "    text = re.sub(r'https?:\\/\\/.*[\\r\\n]*', '', text, flags=re.MULTILINE)\n",
    "    text = re.sub(r'\\<a href', ' ', text)\n",
    "    text = re.sub(r'&amp;', '', text) \n",
    "    text = re.sub(r'[_\"\\-;%()|+&=*%.,!?:#$@\\[\\]/]', ' ', text)\n",
    "    text = re.sub(r'<br />', ' ', text)\n",
    "    text = re.sub(r'\\'', ' ', text)\n",
    "    \n",
    "    # remove stop words\n",
    "#     if remove_stopwords:\n",
    "#         text = text.split()\n",
    "#         stops = set(stopwords.words(\"english\"))\n",
    "#         text = [w for w in text if not w in stops]\n",
    "#         text = \" \".join(text)\n",
    "\n",
    "    # Tokenize each word\n",
    "    text =  nltk.WordPunctTokenizer().tokenize(text)\n",
    "        \n",
    "    return text\n"
   ]
  },
  {
   "cell_type": "code",
   "execution_count": 9,
   "metadata": {},
   "outputs": [],
   "source": [
    "urdu_doc['text_cleaned']= list(map(removing_unwanted_data,urdu_doc.Sentences))"
   ]
  },
  {
   "cell_type": "code",
   "execution_count": 10,
   "metadata": {},
   "outputs": [
    {
     "data": {
      "text/html": [
       "<div>\n",
       "<style scoped>\n",
       "    .dataframe tbody tr th:only-of-type {\n",
       "        vertical-align: middle;\n",
       "    }\n",
       "\n",
       "    .dataframe tbody tr th {\n",
       "        vertical-align: top;\n",
       "    }\n",
       "\n",
       "    .dataframe thead th {\n",
       "        text-align: right;\n",
       "    }\n",
       "</style>\n",
       "<table border=\"1\" class=\"dataframe\">\n",
       "  <thead>\n",
       "    <tr style=\"text-align: right;\">\n",
       "      <th></th>\n",
       "      <th>Sentences</th>\n",
       "      <th>Labels</th>\n",
       "      <th>text_cleaned</th>\n",
       "    </tr>\n",
       "  </thead>\n",
       "  <tbody>\n",
       "    <tr>\n",
       "      <th>0</th>\n",
       "      <td>یہ  بہت خوشی کی بات ہے کہ وہ کراچی آئے ہیں ک...</td>\n",
       "      <td>1</td>\n",
       "      <td>[یہ, بہت, خوشی, کی, بات, ہے, کہ, وہ, کراچی, آئ...</td>\n",
       "    </tr>\n",
       "    <tr>\n",
       "      <th>1</th>\n",
       "      <td>یہ محض مودی کو خوش کرنے کے لیے کیا گیا</td>\n",
       "      <td>1</td>\n",
       "      <td>[یہ, محض, مودی, کو, خوش, کرنے, کے, لیے, کیا, گیا]</td>\n",
       "    </tr>\n",
       "    <tr>\n",
       "      <th>2</th>\n",
       "      <td>ان کا کہنا تھا کہ وہ نریندر مودی کے اس فیصلے ...</td>\n",
       "      <td>1</td>\n",
       "      <td>[ان, کا, کہنا, تھا, کہ, وہ, نریندر, مودی, کے, ...</td>\n",
       "    </tr>\n",
       "    <tr>\n",
       "      <th>3</th>\n",
       "      <td>کیا وہ بھی اس خوشی میں شامل ہوں گے</td>\n",
       "      <td>1</td>\n",
       "      <td>[کیا, وہ, بھی, اس, خوشی, میں, شامل, ہوں, گے]</td>\n",
       "    </tr>\n",
       "    <tr>\n",
       "      <th>4</th>\n",
       "      <td>تاہم خوش قسمتی سے اب تک یہ احتجاج یا انقلاب پ...</td>\n",
       "      <td>1</td>\n",
       "      <td>[تاہم, خوش, قسمتی, سے, اب, تک, یہ, احتجاج, یا,...</td>\n",
       "    </tr>\n",
       "  </tbody>\n",
       "</table>\n",
       "</div>"
      ],
      "text/plain": [
       "                                           Sentences  Labels  \\\n",
       "0    یہ  بہت خوشی کی بات ہے کہ وہ کراچی آئے ہیں ک...       1   \n",
       "1             یہ محض مودی کو خوش کرنے کے لیے کیا گیا       1   \n",
       "2   ان کا کہنا تھا کہ وہ نریندر مودی کے اس فیصلے ...       1   \n",
       "3                 کیا وہ بھی اس خوشی میں شامل ہوں گے       1   \n",
       "4   تاہم خوش قسمتی سے اب تک یہ احتجاج یا انقلاب پ...       1   \n",
       "\n",
       "                                        text_cleaned  \n",
       "0  [یہ, بہت, خوشی, کی, بات, ہے, کہ, وہ, کراچی, آئ...  \n",
       "1  [یہ, محض, مودی, کو, خوش, کرنے, کے, لیے, کیا, گیا]  \n",
       "2  [ان, کا, کہنا, تھا, کہ, وہ, نریندر, مودی, کے, ...  \n",
       "3       [کیا, وہ, بھی, اس, خوشی, میں, شامل, ہوں, گے]  \n",
       "4  [تاہم, خوش, قسمتی, سے, اب, تک, یہ, احتجاج, یا,...  "
      ]
     },
     "execution_count": 10,
     "metadata": {},
     "output_type": "execute_result"
    }
   ],
   "source": [
    "urdu_doc.head()"
   ]
  },
  {
   "cell_type": "markdown",
   "metadata": {},
   "source": [
    "### Lemmatization\n",
    "\n",
    "Get lemma of the word from lookup table\n",
    "   * Args:\n",
    "       * **text (str):** Urdu tokenized text\n",
    "       * **lookup_path (str):** path to the lookup json file\n",
    "   * Returns:\n",
    "       * list: A list containing tuple of word and its lemma"
   ]
  },
  {
   "cell_type": "code",
   "execution_count": 11,
   "metadata": {},
   "outputs": [],
   "source": [
    "import json\n",
    "\n",
    "from urduhack.config import LEMMA_LOOKUP_TABLE_PATH\n",
    "\n",
    "_WORD2LEMMA = None\n",
    "\n",
    "\n",
    "def lemma_lookup(text, lookup_path: str = LEMMA_LOOKUP_TABLE_PATH) -> list:\n",
    "    tokens = text\n",
    "    global _WORD2LEMMA\n",
    "    if _WORD2LEMMA is None:\n",
    "        with open(lookup_path, \"r\", encoding=\"utf-8\") as file:\n",
    "            _WORD2LEMMA = json.load(file)\n",
    "\n",
    "    return [_WORD2LEMMA[word] if word in _WORD2LEMMA else word for word in tokens]\n",
    "\n",
    "urdu_doc['Lemmatized'] =list(map(lemma_lookup,urdu_doc.text_cleaned))"
   ]
  },
  {
   "cell_type": "code",
   "execution_count": 12,
   "metadata": {},
   "outputs": [
    {
     "data": {
      "text/html": [
       "<div>\n",
       "<style scoped>\n",
       "    .dataframe tbody tr th:only-of-type {\n",
       "        vertical-align: middle;\n",
       "    }\n",
       "\n",
       "    .dataframe tbody tr th {\n",
       "        vertical-align: top;\n",
       "    }\n",
       "\n",
       "    .dataframe thead th {\n",
       "        text-align: right;\n",
       "    }\n",
       "</style>\n",
       "<table border=\"1\" class=\"dataframe\">\n",
       "  <thead>\n",
       "    <tr style=\"text-align: right;\">\n",
       "      <th></th>\n",
       "      <th>Sentences</th>\n",
       "      <th>Labels</th>\n",
       "      <th>text_cleaned</th>\n",
       "      <th>Lemmatized</th>\n",
       "    </tr>\n",
       "  </thead>\n",
       "  <tbody>\n",
       "    <tr>\n",
       "      <th>0</th>\n",
       "      <td>یہ  بہت خوشی کی بات ہے کہ وہ کراچی آئے ہیں ک...</td>\n",
       "      <td>1</td>\n",
       "      <td>[یہ, بہت, خوشی, کی, بات, ہے, کہ, وہ, کراچی, آئ...</td>\n",
       "      <td>[میں, بہت, خوشی, کم, بات, ہونا, کہنا, میں, کرا...</td>\n",
       "    </tr>\n",
       "    <tr>\n",
       "      <th>1</th>\n",
       "      <td>یہ محض مودی کو خوش کرنے کے لیے کیا گیا</td>\n",
       "      <td>1</td>\n",
       "      <td>[یہ, محض, مودی, کو, خوش, کرنے, کے, لیے, کیا, گیا]</td>\n",
       "      <td>[میں, محض, مودی, کو, خوش, کرنا, کم, لینا, کیا,...</td>\n",
       "    </tr>\n",
       "    <tr>\n",
       "      <th>2</th>\n",
       "      <td>ان کا کہنا تھا کہ وہ نریندر مودی کے اس فیصلے ...</td>\n",
       "      <td>1</td>\n",
       "      <td>[ان, کا, کہنا, تھا, کہ, وہ, نریندر, مودی, کے, ...</td>\n",
       "      <td>[میں, کا, کہنا, تھا, کہنا, میں, نریندر, مودی, ...</td>\n",
       "    </tr>\n",
       "    <tr>\n",
       "      <th>3</th>\n",
       "      <td>کیا وہ بھی اس خوشی میں شامل ہوں گے</td>\n",
       "      <td>1</td>\n",
       "      <td>[کیا, وہ, بھی, اس, خوشی, میں, شامل, ہوں, گے]</td>\n",
       "      <td>[کیا, میں, بھی, میں, خوشی, میں, شامل, ہونا, گے]</td>\n",
       "    </tr>\n",
       "    <tr>\n",
       "      <th>4</th>\n",
       "      <td>تاہم خوش قسمتی سے اب تک یہ احتجاج یا انقلاب پ...</td>\n",
       "      <td>1</td>\n",
       "      <td>[تاہم, خوش, قسمتی, سے, اب, تک, یہ, احتجاج, یا,...</td>\n",
       "      <td>[تاہم, خوش, قسمتی, سے, اب, تکنا, میں, احتجاج, ...</td>\n",
       "    </tr>\n",
       "  </tbody>\n",
       "</table>\n",
       "</div>"
      ],
      "text/plain": [
       "                                           Sentences  Labels  \\\n",
       "0    یہ  بہت خوشی کی بات ہے کہ وہ کراچی آئے ہیں ک...       1   \n",
       "1             یہ محض مودی کو خوش کرنے کے لیے کیا گیا       1   \n",
       "2   ان کا کہنا تھا کہ وہ نریندر مودی کے اس فیصلے ...       1   \n",
       "3                 کیا وہ بھی اس خوشی میں شامل ہوں گے       1   \n",
       "4   تاہم خوش قسمتی سے اب تک یہ احتجاج یا انقلاب پ...       1   \n",
       "\n",
       "                                        text_cleaned  \\\n",
       "0  [یہ, بہت, خوشی, کی, بات, ہے, کہ, وہ, کراچی, آئ...   \n",
       "1  [یہ, محض, مودی, کو, خوش, کرنے, کے, لیے, کیا, گیا]   \n",
       "2  [ان, کا, کہنا, تھا, کہ, وہ, نریندر, مودی, کے, ...   \n",
       "3       [کیا, وہ, بھی, اس, خوشی, میں, شامل, ہوں, گے]   \n",
       "4  [تاہم, خوش, قسمتی, سے, اب, تک, یہ, احتجاج, یا,...   \n",
       "\n",
       "                                          Lemmatized  \n",
       "0  [میں, بہت, خوشی, کم, بات, ہونا, کہنا, میں, کرا...  \n",
       "1  [میں, محض, مودی, کو, خوش, کرنا, کم, لینا, کیا,...  \n",
       "2  [میں, کا, کہنا, تھا, کہنا, میں, نریندر, مودی, ...  \n",
       "3    [کیا, میں, بھی, میں, خوشی, میں, شامل, ہونا, گے]  \n",
       "4  [تاہم, خوش, قسمتی, سے, اب, تکنا, میں, احتجاج, ...  "
      ]
     },
     "execution_count": 12,
     "metadata": {},
     "output_type": "execute_result"
    }
   ],
   "source": [
    "urdu_doc.head()"
   ]
  },
  {
   "cell_type": "markdown",
   "metadata": {},
   "source": [
    "# Feature Engineering\n",
    "Since machine learning models do not accept the raw text as input data, we need to convert “Reviews” into vectors of numbers.<br>\n",
    "There are different ways of transforming text into numeric vectors. \n",
    "<br>In this analysis, I’ve applied first Bag of Words, followed by Bag-of-n-Grams, and later I’ve moved to Tf-Idf which is a more complex representation.<br>\n",
    "I’ve aimed to model two different classification by using these methodologies and compare their performances on Amazon’s dataset.\n",
    "\n",
    "#### Bag of word (BOW)\n",
    "**It is called a “bag” of words, because any information about the order or structure of words in the document is discarded. The model is only concerned with whether known words occur in the document, not where in the document.**"
   ]
  },
  {
   "cell_type": "code",
   "execution_count": 13,
   "metadata": {},
   "outputs": [
    {
     "name": "stdout",
     "output_type": "stream",
     "text": [
      "The total number of columns are = 3873\n",
      "Shape of arrays = (1168, 3873)\n"
     ]
    }
   ],
   "source": [
    "BOW_convert = CountVectorizer(tokenizer=lambda doc: doc, lowercase=False)\n",
    "x = BOW_convert.fit_transform(urdu_doc['text_cleaned'])\n",
    "\n",
    "words = BOW_convert.get_feature_names()\n",
    "print(\"The total number of columns are =\",len(words))\n",
    "print('Shape of arrays =',x.toarray().shape)"
   ]
  },
  {
   "cell_type": "markdown",
   "metadata": {},
   "source": [
    "Since bag-of-words representation converts text into a “flat vector of numbers”, it does not remember any original textual sequence and it can destroy the semantic meaning of the text.<br> In other words, it only records how many times each word appears in the text and it does not give any importance to their order. Each word count becomes a dimension for that specific word."
   ]
  },
  {
   "cell_type": "code",
   "execution_count": 14,
   "metadata": {},
   "outputs": [
    {
     "name": "stdout",
     "output_type": "stream",
     "text": [
      "Training data set shape = (934, 4)\n",
      "Testing data set shape = (234, 4)\n"
     ]
    }
   ],
   "source": [
    "import sklearn.model_selection\n",
    "\n",
    "from sklearn.linear_model import LogisticRegression\n",
    "\n",
    "train,test= sklearn.model_selection.train_test_split(urdu_doc, train_size = 0.8, random_state=42)\n",
    "\n",
    "print('Training data set shape =',train.shape)\n",
    "\n",
    "print('Testing data set shape =',test.shape)"
   ]
  },
  {
   "cell_type": "markdown",
   "metadata": {},
   "source": [
    "### BOW Transformation \n",
    "Converting the training and testing data into BOW array"
   ]
  },
  {
   "cell_type": "code",
   "execution_count": 20,
   "metadata": {},
   "outputs": [
    {
     "name": "stdout",
     "output_type": "stream",
     "text": [
      "(934, 3097)\n",
      "(934,)\n",
      "(234, 3097)\n",
      "(234,)\n"
     ]
    }
   ],
   "source": [
    "BOW_convert = CountVectorizer(tokenizer=lambda doc: doc, lowercase=False)\n",
    "\n",
    "X_train = BOW_convert.fit_transform(train['Lemmatized']) \n",
    "\n",
    "X_test=BOW_convert.transform(test['Lemmatized'])\n",
    "\n",
    "y_train=train['Labels']\n",
    "y_test=test['Labels']\n",
    "print(X_train.shape)\n",
    "print(y_train.shape)\n",
    "print(X_test.shape)\n",
    "print(y_test.shape)"
   ]
  },
  {
   "cell_type": "markdown",
   "metadata": {},
   "source": [
    "### Tf-Idf Tranformation"
   ]
  },
  {
   "cell_type": "code",
   "execution_count": 21,
   "metadata": {},
   "outputs": [],
   "source": [
    "tfidf_transform = text.TfidfTransformer(norm=None)\n",
    "\n",
    "X_train_tfidf = tfidf_transform.fit_transform(X_train)\n"
   ]
  },
  {
   "cell_type": "code",
   "execution_count": 22,
   "metadata": {},
   "outputs": [],
   "source": [
    "\n",
    "X_test_tfidf = tfidf_transform.transform(X_test)"
   ]
  },
  {
   "cell_type": "markdown",
   "metadata": {},
   "source": [
    "## Logistic Regression"
   ]
  },
  {
   "cell_type": "code",
   "execution_count": 46,
   "metadata": {},
   "outputs": [],
   "source": [
    "score=[]\n",
    "name=[]\n",
    "def logistic_regression(X_tr, y_tr, X_te, y_te, description):\n",
    "    model = LogisticRegression().fit(X_tr, y_tr)\n",
    "    s = model.score(X_te, y_te)\n",
    "    score.append(s)\n",
    "    name.append(description)\n",
    "    print('Testing Score with', description, 'features', score)\n",
    "    return s"
   ]
  },
  {
   "cell_type": "code",
   "execution_count": 47,
   "metadata": {},
   "outputs": [
    {
     "name": "stdout",
     "output_type": "stream",
     "text": [
      "Testing Score with LDA-BOW features [0.9188034188034188]\n",
      "Testing Score with LDA-TFID features [0.9188034188034188, 0.9358974358974359]\n"
     ]
    }
   ],
   "source": [
    "accuracy_bow_method=logistic_regression(X_train,y_train,X_test,y_test,\"LDA-BOW\")\n",
    "accuracy_tf_if=logistic_regression(X_train_tfidf,y_train,X_test_tfidf,y_test,\"LDA-TFID\")"
   ]
  },
  {
   "cell_type": "markdown",
   "metadata": {},
   "source": [
    "## SVM with BOW"
   ]
  },
  {
   "cell_type": "code",
   "execution_count": 50,
   "metadata": {},
   "outputs": [
    {
     "name": "stdout",
     "output_type": "stream",
     "text": [
      "Testing Score of SVM with BOW method  [0.9188034188034188, 0.9358974358974359, 0.452991452991453]\n"
     ]
    }
   ],
   "source": [
    "from sklearn import svm\n",
    "clf = svm.SVC()\n",
    "\n",
    "clf.fit(X_train, y_train)\n",
    "\n",
    "ss=clf.score(X_test,y_test)\n",
    "score.append(ss)\n",
    "name.append('SVM-BOW')\n",
    "\n",
    "# get the accuracy\n",
    "print('Testing Score of SVM with BOW method ', score)\n"
   ]
  },
  {
   "cell_type": "markdown",
   "metadata": {},
   "source": [
    "**Comparing all model  results**"
   ]
  },
  {
   "cell_type": "code",
   "execution_count": 107,
   "metadata": {},
   "outputs": [
    {
     "data": {
      "text/html": [
       "<div>\n",
       "<style scoped>\n",
       "    .dataframe tbody tr th:only-of-type {\n",
       "        vertical-align: middle;\n",
       "    }\n",
       "\n",
       "    .dataframe tbody tr th {\n",
       "        vertical-align: top;\n",
       "    }\n",
       "\n",
       "    .dataframe thead th {\n",
       "        text-align: right;\n",
       "    }\n",
       "</style>\n",
       "<table border=\"1\" class=\"dataframe\">\n",
       "  <thead>\n",
       "    <tr style=\"text-align: right;\">\n",
       "      <th></th>\n",
       "      <th>Models</th>\n",
       "      <th>Accuracy</th>\n",
       "    </tr>\n",
       "  </thead>\n",
       "  <tbody>\n",
       "    <tr>\n",
       "      <th>0</th>\n",
       "      <td>LDA-BOW</td>\n",
       "      <td>0.918803</td>\n",
       "    </tr>\n",
       "    <tr>\n",
       "      <th>1</th>\n",
       "      <td>LDA-TFID</td>\n",
       "      <td>0.935897</td>\n",
       "    </tr>\n",
       "    <tr>\n",
       "      <th>2</th>\n",
       "      <td>SVM-BOW</td>\n",
       "      <td>0.452991</td>\n",
       "    </tr>\n",
       "  </tbody>\n",
       "</table>\n",
       "</div>"
      ],
      "text/plain": [
       "     Models  Accuracy\n",
       "0   LDA-BOW  0.918803\n",
       "1  LDA-TFID  0.935897\n",
       "2   SVM-BOW  0.452991"
      ]
     },
     "execution_count": 107,
     "metadata": {},
     "output_type": "execute_result"
    }
   ],
   "source": [
    "results=pd.DataFrame()\n",
    "dictionary=dict()\n",
    "dictionary['Models']=name\n",
    "dictionary['Accuracy']=score\n",
    "results=pd.DataFrame(dictionary )\n",
    "\n",
    "results"
   ]
  },
  {
   "cell_type": "code",
   "execution_count": 109,
   "metadata": {},
   "outputs": [
    {
     "data": {
      "image/png": "[encoded data removed]",
      "text/plain": [
       "<Figure size 432x288 with 1 Axes>"
      ]
     },
     "metadata": {},
     "output_type": "display_data"
    }
   ],
   "source": [
    "import seaborn as sns\n",
    "sns.set_style(style=\"whitegrid\")\n",
    "\n",
    "ax = sns.barplot(x='Models', y= 'Accuracy',data=results)"
   ]
  },
  {
   "cell_type": "markdown",
   "metadata": {},
   "source": [
    "-----------------------------------"
   ]
  }
 ],
 "metadata": {
  "kernelspec": {
   "display_name": "Python 3",
   "language": "python",
   "name": "python3"
  },
  "language_info": {
   "codemirror_mode": {
    "name": "ipython",
    "version": 3
   },
   "file_extension": ".py",
   "mimetype": "text/x-python",
   "name": "python",
   "nbconvert_exporter": "python",
   "pygments_lexer": "ipython3",
   "version": "3.7.3"
  }
 },
 "nbformat": 4,
 "nbformat_minor": 2
}
